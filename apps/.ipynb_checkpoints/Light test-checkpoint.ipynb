{
 "cells": [
  {
   "cell_type": "code",
   "execution_count": 1,
   "id": "51c4814e",
   "metadata": {},
   "outputs": [
    {
     "data": {
      "text/plain": [
       "<module 'helper_dmx' from '/home/asc/constellation-dev/Constellation/apps/helper_dmx.py'>"
      ]
     },
     "execution_count": 1,
     "metadata": {},
     "output_type": "execute_result"
    }
   ],
   "source": [
    "import importlib\n",
    "\n",
    "from PyDMXControl.controllers import OpenDMXController\n",
    "from PyDMXControl.profiles.defaults import Fixture\n",
    "\n",
    "import helper_dmx\n",
    "import config\n",
    "importlib.reload(helper_dmx)"
   ]
  },
  {
   "cell_type": "code",
   "execution_count": 2,
   "id": "36c0c70b",
   "metadata": {},
   "outputs": [
    {
     "name": "stdout",
     "output_type": "stream",
     "text": [
      "Started web controller: http://0.0.0.0:8080\n"
     ]
    }
   ],
   "source": [
    "dmx = helper_dmx.create_universe(\"Main\")\n",
    "dmx.controller.web_control()"
   ]
  },
  {
   "cell_type": "code",
   "execution_count": 3,
   "id": "fee61421",
   "metadata": {},
   "outputs": [],
   "source": [
    "fix1 = dmx.create_fixture(\"Left\", 1, [\"mode\", \"color\", \"speed\", \"dimmer\", \"r\", \"g\", \"b\", \"w\"])\n",
    "fix2 = dmx.create_fixture(\"Right\", 9, [\"mode\", \"color\", \"speed\", \"dimmer\", \"r\", \"g\", \"b\", \"w\"])"
   ]
  },
  {
   "cell_type": "code",
   "execution_count": null,
   "id": "dd684352",
   "metadata": {},
   "outputs": [],
   "source": []
  },
  {
   "cell_type": "code",
   "execution_count": 4,
   "id": "bd11b21a",
   "metadata": {},
   "outputs": [],
   "source": [
    "group1 = helper_dmx.create_group(\"Group 1\")\n",
    "group1.add_fixtures([fix1, fix2])\n",
    "group1.create_scene(\"Christmas\", {\n",
    "    \"Left\": {\n",
    "        \"color\": [255,0,0,0],\n",
    "        \"brightness\": 50,\n",
    "        \"duration\": 2000\n",
    "    },\n",
    "    \"Right\": {\n",
    "        \"color\": [0,255,0,0],\n",
    "        \"brightness\": 50,\n",
    "        \"duration\": 2000\n",
    "    }\n",
    "})\n",
    "group1.create_scene(\"Fourth\", {\n",
    "    \"Left\": {\n",
    "        \"color\": [10,49,97,0],\n",
    "        \"brightness\": 255,\n",
    "        \"duration\": 2000\n",
    "    },\n",
    "    \"Right\": {\n",
    "        \"color\": [255,0,0,0],\n",
    "        \"brightness\": 255,\n",
    "        \"duration\": 2000\n",
    "    }\n",
    "})"
   ]
  },
  {
   "cell_type": "code",
   "execution_count": 5,
   "id": "dc78bbf3",
   "metadata": {},
   "outputs": [],
   "source": [
    "group1.show_scene('Christmas')"
   ]
  },
  {
   "cell_type": "code",
   "execution_count": 6,
   "id": "aa834708",
   "metadata": {},
   "outputs": [],
   "source": [
    "group1.show_scene('Fourth')"
   ]
  },
  {
   "cell_type": "code",
   "execution_count": 7,
   "id": "4a4fa774",
   "metadata": {},
   "outputs": [],
   "source": [
    "#helper_dmx.write_dmx_configuration()"
   ]
  },
  {
   "cell_type": "code",
   "execution_count": null,
   "id": "3817f982",
   "metadata": {},
   "outputs": [],
   "source": []
  },
  {
   "cell_type": "code",
   "execution_count": 2,
   "id": "807e878d",
   "metadata": {},
   "outputs": [],
   "source": [
    "helper_dmx.read_dmx_configuration()"
   ]
  },
  {
   "cell_type": "code",
   "execution_count": 6,
   "id": "aabe2894",
   "metadata": {},
   "outputs": [],
   "source": [
    "g1 = config.dmx_groups[\"Group 1\"]\n",
    "g1.set_color([0,0,0,255], 500)"
   ]
  },
  {
   "cell_type": "code",
   "execution_count": 3,
   "id": "d2533252",
   "metadata": {},
   "outputs": [
    {
     "data": {
      "text/plain": [
       "'aab5032c-7695-4d30-bdb1-7e20cfcb0845'"
      ]
     },
     "execution_count": 3,
     "metadata": {},
     "output_type": "execute_result"
    }
   ],
   "source": [
    "helper_dmx.get_fixture('Left', universe=\"Main\").uuid"
   ]
  },
  {
   "cell_type": "code",
   "execution_count": 6,
   "id": "ce74300b",
   "metadata": {},
   "outputs": [
    {
     "data": {
      "text/plain": [
       "{'Right': [DMXFixture: 'Right' in universe 'Main' with channels 9->16 (8)]}"
      ]
     },
     "execution_count": 6,
     "metadata": {},
     "output_type": "execute_result"
    }
   ],
   "source": [
    "helper_dmx.get_universe(\"Main\").fixtures"
   ]
  },
  {
   "cell_type": "code",
   "execution_count": 7,
   "id": "8e9a96b2",
   "metadata": {},
   "outputs": [],
   "source": [
    "helper_dmx.get_group(\"Group 1\").show_scene(\"Christmas\")"
   ]
  },
  {
   "cell_type": "code",
   "execution_count": 13,
   "id": "3b21b024",
   "metadata": {},
   "outputs": [],
   "source": [
    "a = {\"a\": 1, \"b\": 2}\n",
    "b = {\"a\": 3, \"c\": 4}\n",
    "l = [a,b]"
   ]
  },
  {
   "cell_type": "code",
   "execution_count": 5,
   "id": "0d03981a",
   "metadata": {},
   "outputs": [
    {
     "data": {
      "text/plain": [
       "<module 'helper_dmx' from '/home/asc/constellation-dev/Constellation/apps/helper_dmx.py'>"
      ]
     },
     "execution_count": 5,
     "metadata": {},
     "output_type": "execute_result"
    }
   ],
   "source": [
    "importlib.reload(helper_dmx)"
   ]
  },
  {
   "cell_type": "code",
   "execution_count": 4,
   "id": "bc2c7fc7",
   "metadata": {},
   "outputs": [
    {
     "data": {
      "text/plain": [
       "[DMXFixture: 'Left' in universe 'Main' with channels 1->8 (8)]"
      ]
     },
     "execution_count": 4,
     "metadata": {},
     "output_type": "execute_result"
    }
   ],
   "source": [
    "helper_dmx.get_fixture(uuid='aab5032c-7695-4d30-bdb1-7e20cfcb0845')"
   ]
  },
  {
   "cell_type": "code",
   "execution_count": null,
   "id": "5fee060e",
   "metadata": {},
   "outputs": [],
   "source": []
  },
  {
   "cell_type": "code",
   "execution_count": 13,
   "id": "91e8d001",
   "metadata": {},
   "outputs": [
    {
     "data": {
      "text/plain": [
       "'5f466683-89a3-437b-be16-a842d70b9676'"
      ]
     },
     "execution_count": 13,
     "metadata": {},
     "output_type": "execute_result"
    }
   ],
   "source": [
    "str(a)"
   ]
  },
  {
   "cell_type": "code",
   "execution_count": 15,
   "id": "173ccc8f",
   "metadata": {},
   "outputs": [
    {
     "data": {
      "text/plain": [
       "True"
      ]
     },
     "execution_count": 15,
     "metadata": {},
     "output_type": "execute_result"
    }
   ],
   "source": [
    "str(a) == '5f466683-89a3-437b-be16-a842d70b9676'"
   ]
  },
  {
   "cell_type": "code",
   "execution_count": null,
   "id": "6370b6f6",
   "metadata": {},
   "outputs": [],
   "source": []
  },
  {
   "cell_type": "code",
   "execution_count": null,
   "id": "97c23260",
   "metadata": {},
   "outputs": [],
   "source": []
  }
 ],
 "metadata": {
  "kernelspec": {
   "display_name": "Python 3 (ipykernel)",
   "language": "python",
   "name": "python3"
  },
  "language_info": {
   "codemirror_mode": {
    "name": "ipython",
    "version": 3
   },
   "file_extension": ".py",
   "mimetype": "text/x-python",
   "name": "python",
   "nbconvert_exporter": "python",
   "pygments_lexer": "ipython3",
   "version": "3.9.16"
  }
 },
 "nbformat": 4,
 "nbformat_minor": 5
}
